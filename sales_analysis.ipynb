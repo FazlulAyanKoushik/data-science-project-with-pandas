{
 "cells": [
  {
   "cell_type": "code",
   "execution_count": 13,
   "id": "initial_id",
   "metadata": {
    "collapsed": true,
    "ExecuteTime": {
     "end_time": "2024-02-19T18:22:13.000446700Z",
     "start_time": "2024-02-19T18:22:12.955915Z"
    }
   },
   "outputs": [],
   "source": [
    "import pandas as pd\n",
    "import os"
   ]
  },
  {
   "cell_type": "code",
   "outputs": [],
   "source": [
    "# Get the month priority from the filename to sort the files\n",
    "def get_month(filename):\n",
    "    month_mapping = {\n",
    "        'January': 1,\n",
    "        'February': 2,\n",
    "        'March': 3,\n",
    "        'April': 4,\n",
    "        'May': 5,\n",
    "        'June': 6,\n",
    "        'July': 7,\n",
    "        'August': 8,\n",
    "        'September': 9,\n",
    "        'October': 10,\n",
    "        'November': 11,\n",
    "        'December': 12\n",
    "    }\n",
    "    month_name = filename.split('_')[1]\n",
    "    return month_mapping[month_name]"
   ],
   "metadata": {
    "collapsed": false,
    "ExecuteTime": {
     "end_time": "2024-02-19T18:22:13.020093500Z",
     "start_time": "2024-02-19T18:22:13.004572600Z"
    }
   },
   "id": "2eeb0e5660c6a130",
   "execution_count": 14
  },
  {
   "cell_type": "code",
   "outputs": [],
   "source": [
    "# Read the csv files from the Sales_Data folder\n",
    "files = [file for file in os.listdir('SalesAnalysis/Sales_Data')]\n",
    "\n",
    "# Sort the files based on the month name\n",
    "sorted_files = sorted(files, key=get_month)\n",
    "\n",
    "all_months_data = pd.DataFrame()\n",
    "\n",
    "# Print the sorted files\n",
    "for file in sorted_files:\n",
    "    df = pd.read_csv('SalesAnalysis/Sales_Data/' + file)\n",
    "    all_months_data = pd.concat([all_months_data, df])\n",
    "    "
   ],
   "metadata": {
    "collapsed": false,
    "ExecuteTime": {
     "end_time": "2024-02-19T18:22:13.318222200Z",
     "start_time": "2024-02-19T18:22:13.009536300Z"
    }
   },
   "id": "ca9d1c6b24049d80",
   "execution_count": 15
  },
  {
   "cell_type": "markdown",
   "source": [
    "### Clean the data"
   ],
   "metadata": {
    "collapsed": false
   },
   "id": "f1136eb7786530e3"
  },
  {
   "cell_type": "code",
   "outputs": [],
   "source": [
    "all_months_data = all_months_data.dropna(how='all')\n",
    "\n",
    "# if Quantity Ordered value is 0.0, then drop that row\n",
    "all_months_data = all_months_data[all_months_data['Quantity Ordered'] != '0.0']\n",
    "\n",
    "all_months_data = all_months_data.reset_index(drop=True)"
   ],
   "metadata": {
    "collapsed": false,
    "ExecuteTime": {
     "end_time": "2024-02-19T18:22:13.402710900Z",
     "start_time": "2024-02-19T18:22:13.319223200Z"
    }
   },
   "id": "acce128c1eba6104",
   "execution_count": 16
  },
  {
   "cell_type": "markdown",
   "source": [
    "### Save the data to a csv file"
   ],
   "metadata": {
    "collapsed": false
   },
   "id": "dc497f63e4b13bd1"
  },
  {
   "cell_type": "code",
   "outputs": [],
   "source": [
    "all_months_data.to_csv('SalesAnalysis/Output/all_data.csv', index=False)"
   ],
   "metadata": {
    "collapsed": false,
    "ExecuteTime": {
     "end_time": "2024-02-19T18:22:13.830016200Z",
     "start_time": "2024-02-19T18:22:13.403820Z"
    }
   },
   "id": "a831651da1f95d15",
   "execution_count": 17
  },
  {
   "cell_type": "markdown",
   "source": [
    "### Set low memory to False"
   ],
   "metadata": {
    "collapsed": false
   },
   "id": "bbca6af417b5136e"
  },
  {
   "cell_type": "code",
   "outputs": [
    {
     "data": {
      "text/plain": "  Order ID                   Product Quantity Ordered Price Each Order Date  \\\n0   141234                    iPhone                1        700   01/22/19   \n1   141235  Lightning Charging Cable                1      14.95   01/28/19   \n2   141236          Wired Headphones                2      11.99   01/17/19   \n3   141237          27in FHD Monitor                1     149.99   01/05/19   \n4   141238          Wired Headphones                1      11.99   01/25/19   \n\n                        Purchase Address  \n0        944 Walnut St, Boston, MA 02215  \n1       185 Maple St, Portland, OR 97035  \n2  538 Adams St, San Francisco, CA 94016  \n3     738 10th St, Los Angeles, CA 90001  \n4          387 10th St, Austin, TX 73301  ",
      "text/html": "<div>\n<style scoped>\n    .dataframe tbody tr th:only-of-type {\n        vertical-align: middle;\n    }\n\n    .dataframe tbody tr th {\n        vertical-align: top;\n    }\n\n    .dataframe thead th {\n        text-align: right;\n    }\n</style>\n<table border=\"1\" class=\"dataframe\">\n  <thead>\n    <tr style=\"text-align: right;\">\n      <th></th>\n      <th>Order ID</th>\n      <th>Product</th>\n      <th>Quantity Ordered</th>\n      <th>Price Each</th>\n      <th>Order Date</th>\n      <th>Purchase Address</th>\n    </tr>\n  </thead>\n  <tbody>\n    <tr>\n      <th>0</th>\n      <td>141234</td>\n      <td>iPhone</td>\n      <td>1</td>\n      <td>700</td>\n      <td>01/22/19</td>\n      <td>944 Walnut St, Boston, MA 02215</td>\n    </tr>\n    <tr>\n      <th>1</th>\n      <td>141235</td>\n      <td>Lightning Charging Cable</td>\n      <td>1</td>\n      <td>14.95</td>\n      <td>01/28/19</td>\n      <td>185 Maple St, Portland, OR 97035</td>\n    </tr>\n    <tr>\n      <th>2</th>\n      <td>141236</td>\n      <td>Wired Headphones</td>\n      <td>2</td>\n      <td>11.99</td>\n      <td>01/17/19</td>\n      <td>538 Adams St, San Francisco, CA 94016</td>\n    </tr>\n    <tr>\n      <th>3</th>\n      <td>141237</td>\n      <td>27in FHD Monitor</td>\n      <td>1</td>\n      <td>149.99</td>\n      <td>01/05/19</td>\n      <td>738 10th St, Los Angeles, CA 90001</td>\n    </tr>\n    <tr>\n      <th>4</th>\n      <td>141238</td>\n      <td>Wired Headphones</td>\n      <td>1</td>\n      <td>11.99</td>\n      <td>01/25/19</td>\n      <td>387 10th St, Austin, TX 73301</td>\n    </tr>\n  </tbody>\n</table>\n</div>"
     },
     "execution_count": 18,
     "metadata": {},
     "output_type": "execute_result"
    }
   ],
   "source": [
    "all_data = pd.read_csv('SalesAnalysis/Output/all_data.csv', low_memory=False)\n",
    "all_data.head()"
   ],
   "metadata": {
    "collapsed": false,
    "ExecuteTime": {
     "end_time": "2024-02-19T18:22:14.090518100Z",
     "start_time": "2024-02-19T18:22:13.832086700Z"
    }
   },
   "id": "44e16286f3b2fc65",
   "execution_count": 18
  },
  {
   "cell_type": "code",
   "outputs": [
    {
     "data": {
      "text/plain": "        Order ID  Product  Quantity Ordered  Price Each  Order Date  \\\n1069    Order ID  Product  Quantity Ordered  Price Each  Order Date   \n1098    Order ID  Product  Quantity Ordered  Price Each  Order Date   \n1190    Order ID  Product  Quantity Ordered  Price Each  Order Date   \n1890    Order ID  Product  Quantity Ordered  Price Each  Order Date   \n2456    Order ID  Product  Quantity Ordered  Price Each  Order Date   \n...          ...      ...               ...         ...         ...   \n184389  Order ID  Product  Quantity Ordered  Price Each  Order Date   \n184527  Order ID  Product  Quantity Ordered  Price Each  Order Date   \n184938  Order ID  Product  Quantity Ordered  Price Each  Order Date   \n185381  Order ID  Product  Quantity Ordered  Price Each  Order Date   \n185411  Order ID  Product  Quantity Ordered  Price Each  Order Date   \n\n        Purchase Address  \n1069    Purchase Address  \n1098    Purchase Address  \n1190    Purchase Address  \n1890    Purchase Address  \n2456    Purchase Address  \n...                  ...  \n184389  Purchase Address  \n184527  Purchase Address  \n184938  Purchase Address  \n185381  Purchase Address  \n185411  Purchase Address  \n\n[355 rows x 6 columns]",
      "text/html": "<div>\n<style scoped>\n    .dataframe tbody tr th:only-of-type {\n        vertical-align: middle;\n    }\n\n    .dataframe tbody tr th {\n        vertical-align: top;\n    }\n\n    .dataframe thead th {\n        text-align: right;\n    }\n</style>\n<table border=\"1\" class=\"dataframe\">\n  <thead>\n    <tr style=\"text-align: right;\">\n      <th></th>\n      <th>Order ID</th>\n      <th>Product</th>\n      <th>Quantity Ordered</th>\n      <th>Price Each</th>\n      <th>Order Date</th>\n      <th>Purchase Address</th>\n    </tr>\n  </thead>\n  <tbody>\n    <tr>\n      <th>1069</th>\n      <td>Order ID</td>\n      <td>Product</td>\n      <td>Quantity Ordered</td>\n      <td>Price Each</td>\n      <td>Order Date</td>\n      <td>Purchase Address</td>\n    </tr>\n    <tr>\n      <th>1098</th>\n      <td>Order ID</td>\n      <td>Product</td>\n      <td>Quantity Ordered</td>\n      <td>Price Each</td>\n      <td>Order Date</td>\n      <td>Purchase Address</td>\n    </tr>\n    <tr>\n      <th>1190</th>\n      <td>Order ID</td>\n      <td>Product</td>\n      <td>Quantity Ordered</td>\n      <td>Price Each</td>\n      <td>Order Date</td>\n      <td>Purchase Address</td>\n    </tr>\n    <tr>\n      <th>1890</th>\n      <td>Order ID</td>\n      <td>Product</td>\n      <td>Quantity Ordered</td>\n      <td>Price Each</td>\n      <td>Order Date</td>\n      <td>Purchase Address</td>\n    </tr>\n    <tr>\n      <th>2456</th>\n      <td>Order ID</td>\n      <td>Product</td>\n      <td>Quantity Ordered</td>\n      <td>Price Each</td>\n      <td>Order Date</td>\n      <td>Purchase Address</td>\n    </tr>\n    <tr>\n      <th>...</th>\n      <td>...</td>\n      <td>...</td>\n      <td>...</td>\n      <td>...</td>\n      <td>...</td>\n      <td>...</td>\n    </tr>\n    <tr>\n      <th>184389</th>\n      <td>Order ID</td>\n      <td>Product</td>\n      <td>Quantity Ordered</td>\n      <td>Price Each</td>\n      <td>Order Date</td>\n      <td>Purchase Address</td>\n    </tr>\n    <tr>\n      <th>184527</th>\n      <td>Order ID</td>\n      <td>Product</td>\n      <td>Quantity Ordered</td>\n      <td>Price Each</td>\n      <td>Order Date</td>\n      <td>Purchase Address</td>\n    </tr>\n    <tr>\n      <th>184938</th>\n      <td>Order ID</td>\n      <td>Product</td>\n      <td>Quantity Ordered</td>\n      <td>Price Each</td>\n      <td>Order Date</td>\n      <td>Purchase Address</td>\n    </tr>\n    <tr>\n      <th>185381</th>\n      <td>Order ID</td>\n      <td>Product</td>\n      <td>Quantity Ordered</td>\n      <td>Price Each</td>\n      <td>Order Date</td>\n      <td>Purchase Address</td>\n    </tr>\n    <tr>\n      <th>185411</th>\n      <td>Order ID</td>\n      <td>Product</td>\n      <td>Quantity Ordered</td>\n      <td>Price Each</td>\n      <td>Order Date</td>\n      <td>Purchase Address</td>\n    </tr>\n  </tbody>\n</table>\n<p>355 rows × 6 columns</p>\n</div>"
     },
     "execution_count": 19,
     "metadata": {},
     "output_type": "execute_result"
    }
   ],
   "source": [
    "# Check Order Date column has any value named Order Date\n",
    "all_data[all_data['Order Date'] == 'Order Date']"
   ],
   "metadata": {
    "collapsed": false,
    "ExecuteTime": {
     "end_time": "2024-02-19T18:22:14.108889500Z",
     "start_time": "2024-02-19T18:22:14.087497300Z"
    }
   },
   "id": "decafd6d6d08d806",
   "execution_count": 19
  },
  {
   "cell_type": "markdown",
   "source": [
    "### Covert Quantity Ordered and Price Each to numeric"
   ],
   "metadata": {
    "collapsed": false
   },
   "id": "e571c0b224f58ba"
  },
  {
   "cell_type": "code",
   "outputs": [],
   "source": [
    "all_data['Quantity Ordered'] = pd.to_numeric(all_data['Quantity Ordered'], errors='coerce')\n",
    "all_data['Price Each'] = pd.to_numeric(all_data['Price Each'], errors='coerce')"
   ],
   "metadata": {
    "collapsed": false,
    "ExecuteTime": {
     "end_time": "2024-02-19T18:22:14.262724300Z",
     "start_time": "2024-02-19T18:22:14.103701300Z"
    }
   },
   "id": "8e3c082e71f83c9c",
   "execution_count": 20
  },
  {
   "cell_type": "markdown",
   "source": [
    "### Adding a month column"
   ],
   "metadata": {
    "collapsed": false
   },
   "id": "91eb0b6e0adeabdb"
  },
  {
   "cell_type": "code",
   "outputs": [
    {
     "data": {
      "text/plain": "  Order ID                   Product  Quantity Ordered  Price Each Order Date  \\\n0   141234                    iPhone               1.0      700.00   01/22/19   \n1   141235  Lightning Charging Cable               1.0       14.95   01/28/19   \n2   141236          Wired Headphones               2.0       11.99   01/17/19   \n3   141237          27in FHD Monitor               1.0      149.99   01/05/19   \n4   141238          Wired Headphones               1.0       11.99   01/25/19   \n\n                        Purchase Address Month  \n0        944 Walnut St, Boston, MA 02215    01  \n1       185 Maple St, Portland, OR 97035    01  \n2  538 Adams St, San Francisco, CA 94016    01  \n3     738 10th St, Los Angeles, CA 90001    01  \n4          387 10th St, Austin, TX 73301    01  ",
      "text/html": "<div>\n<style scoped>\n    .dataframe tbody tr th:only-of-type {\n        vertical-align: middle;\n    }\n\n    .dataframe tbody tr th {\n        vertical-align: top;\n    }\n\n    .dataframe thead th {\n        text-align: right;\n    }\n</style>\n<table border=\"1\" class=\"dataframe\">\n  <thead>\n    <tr style=\"text-align: right;\">\n      <th></th>\n      <th>Order ID</th>\n      <th>Product</th>\n      <th>Quantity Ordered</th>\n      <th>Price Each</th>\n      <th>Order Date</th>\n      <th>Purchase Address</th>\n      <th>Month</th>\n    </tr>\n  </thead>\n  <tbody>\n    <tr>\n      <th>0</th>\n      <td>141234</td>\n      <td>iPhone</td>\n      <td>1.0</td>\n      <td>700.00</td>\n      <td>01/22/19</td>\n      <td>944 Walnut St, Boston, MA 02215</td>\n      <td>01</td>\n    </tr>\n    <tr>\n      <th>1</th>\n      <td>141235</td>\n      <td>Lightning Charging Cable</td>\n      <td>1.0</td>\n      <td>14.95</td>\n      <td>01/28/19</td>\n      <td>185 Maple St, Portland, OR 97035</td>\n      <td>01</td>\n    </tr>\n    <tr>\n      <th>2</th>\n      <td>141236</td>\n      <td>Wired Headphones</td>\n      <td>2.0</td>\n      <td>11.99</td>\n      <td>01/17/19</td>\n      <td>538 Adams St, San Francisco, CA 94016</td>\n      <td>01</td>\n    </tr>\n    <tr>\n      <th>3</th>\n      <td>141237</td>\n      <td>27in FHD Monitor</td>\n      <td>1.0</td>\n      <td>149.99</td>\n      <td>01/05/19</td>\n      <td>738 10th St, Los Angeles, CA 90001</td>\n      <td>01</td>\n    </tr>\n    <tr>\n      <th>4</th>\n      <td>141238</td>\n      <td>Wired Headphones</td>\n      <td>1.0</td>\n      <td>11.99</td>\n      <td>01/25/19</td>\n      <td>387 10th St, Austin, TX 73301</td>\n      <td>01</td>\n    </tr>\n  </tbody>\n</table>\n</div>"
     },
     "execution_count": 21,
     "metadata": {},
     "output_type": "execute_result"
    }
   ],
   "source": [
    "# month is 01, 02, 03, 04, 05, 06, 07, 08, 09, 10, 11, 12\n",
    "# if order date is 1/25/19 13:05, then add 01\n",
    "all_data['Month'] = all_data['Order Date'].str[0:2]\n",
    "all_data.head()"
   ],
   "metadata": {
    "collapsed": false,
    "ExecuteTime": {
     "end_time": "2024-02-19T18:22:14.296425900Z",
     "start_time": "2024-02-19T18:22:14.233646300Z"
    }
   },
   "id": "ad077877342d26be",
   "execution_count": 21
  },
  {
   "cell_type": "markdown",
   "source": [
    "### add a sales column"
   ],
   "metadata": {
    "collapsed": false
   },
   "id": "94510af371afe59b"
  },
  {
   "cell_type": "code",
   "outputs": [
    {
     "data": {
      "text/plain": "       Order ID                     Product  Quantity Ordered  Price Each  \\\n0        141234                      iPhone               1.0      700.00   \n1        141235    Lightning Charging Cable               1.0       14.95   \n2        141236            Wired Headphones               2.0       11.99   \n3        141237            27in FHD Monitor               1.0      149.99   \n4        141238            Wired Headphones               1.0       11.99   \n...         ...                         ...               ...         ...   \n186300   319666    Lightning Charging Cable               1.0       14.95   \n186301   319667       AA Batteries (4-pack)               2.0        3.84   \n186302   319668             Vareebadd Phone               1.0      400.00   \n186303   319669            Wired Headphones               1.0       11.99   \n186304   319670  Bose SoundSport Headphones               1.0       99.99   \n\n            Order Date                        Purchase Address Month   Sales  \n0             01/22/19         944 Walnut St, Boston, MA 02215    01  700.00  \n1             01/28/19        185 Maple St, Portland, OR 97035    01   14.95  \n2             01/17/19   538 Adams St, San Francisco, CA 94016    01   23.98  \n3             01/05/19      738 10th St, Los Angeles, CA 90001    01  149.99  \n4             01/25/19           387 10th St, Austin, TX 73301    01   11.99  \n...                ...                                     ...   ...     ...  \n186300  12/11/19 20:58  14 Madison St, San Francisco, CA 94016    12   14.95  \n186301  12/01/19 12:01    549 Willow St, Los Angeles, CA 90001    12    7.68  \n186302  12/09/19 06:43        273 Wilson St, Seattle, WA 98101    12  400.00  \n186303  12/03/19 10:39          778 River St, Dallas, TX 75001    12   11.99  \n186304  12/21/19 21:45  747 Chestnut St, Los Angeles, CA 90001    12   99.99  \n\n[186305 rows x 8 columns]",
      "text/html": "<div>\n<style scoped>\n    .dataframe tbody tr th:only-of-type {\n        vertical-align: middle;\n    }\n\n    .dataframe tbody tr th {\n        vertical-align: top;\n    }\n\n    .dataframe thead th {\n        text-align: right;\n    }\n</style>\n<table border=\"1\" class=\"dataframe\">\n  <thead>\n    <tr style=\"text-align: right;\">\n      <th></th>\n      <th>Order ID</th>\n      <th>Product</th>\n      <th>Quantity Ordered</th>\n      <th>Price Each</th>\n      <th>Order Date</th>\n      <th>Purchase Address</th>\n      <th>Month</th>\n      <th>Sales</th>\n    </tr>\n  </thead>\n  <tbody>\n    <tr>\n      <th>0</th>\n      <td>141234</td>\n      <td>iPhone</td>\n      <td>1.0</td>\n      <td>700.00</td>\n      <td>01/22/19</td>\n      <td>944 Walnut St, Boston, MA 02215</td>\n      <td>01</td>\n      <td>700.00</td>\n    </tr>\n    <tr>\n      <th>1</th>\n      <td>141235</td>\n      <td>Lightning Charging Cable</td>\n      <td>1.0</td>\n      <td>14.95</td>\n      <td>01/28/19</td>\n      <td>185 Maple St, Portland, OR 97035</td>\n      <td>01</td>\n      <td>14.95</td>\n    </tr>\n    <tr>\n      <th>2</th>\n      <td>141236</td>\n      <td>Wired Headphones</td>\n      <td>2.0</td>\n      <td>11.99</td>\n      <td>01/17/19</td>\n      <td>538 Adams St, San Francisco, CA 94016</td>\n      <td>01</td>\n      <td>23.98</td>\n    </tr>\n    <tr>\n      <th>3</th>\n      <td>141237</td>\n      <td>27in FHD Monitor</td>\n      <td>1.0</td>\n      <td>149.99</td>\n      <td>01/05/19</td>\n      <td>738 10th St, Los Angeles, CA 90001</td>\n      <td>01</td>\n      <td>149.99</td>\n    </tr>\n    <tr>\n      <th>4</th>\n      <td>141238</td>\n      <td>Wired Headphones</td>\n      <td>1.0</td>\n      <td>11.99</td>\n      <td>01/25/19</td>\n      <td>387 10th St, Austin, TX 73301</td>\n      <td>01</td>\n      <td>11.99</td>\n    </tr>\n    <tr>\n      <th>...</th>\n      <td>...</td>\n      <td>...</td>\n      <td>...</td>\n      <td>...</td>\n      <td>...</td>\n      <td>...</td>\n      <td>...</td>\n      <td>...</td>\n    </tr>\n    <tr>\n      <th>186300</th>\n      <td>319666</td>\n      <td>Lightning Charging Cable</td>\n      <td>1.0</td>\n      <td>14.95</td>\n      <td>12/11/19 20:58</td>\n      <td>14 Madison St, San Francisco, CA 94016</td>\n      <td>12</td>\n      <td>14.95</td>\n    </tr>\n    <tr>\n      <th>186301</th>\n      <td>319667</td>\n      <td>AA Batteries (4-pack)</td>\n      <td>2.0</td>\n      <td>3.84</td>\n      <td>12/01/19 12:01</td>\n      <td>549 Willow St, Los Angeles, CA 90001</td>\n      <td>12</td>\n      <td>7.68</td>\n    </tr>\n    <tr>\n      <th>186302</th>\n      <td>319668</td>\n      <td>Vareebadd Phone</td>\n      <td>1.0</td>\n      <td>400.00</td>\n      <td>12/09/19 06:43</td>\n      <td>273 Wilson St, Seattle, WA 98101</td>\n      <td>12</td>\n      <td>400.00</td>\n    </tr>\n    <tr>\n      <th>186303</th>\n      <td>319669</td>\n      <td>Wired Headphones</td>\n      <td>1.0</td>\n      <td>11.99</td>\n      <td>12/03/19 10:39</td>\n      <td>778 River St, Dallas, TX 75001</td>\n      <td>12</td>\n      <td>11.99</td>\n    </tr>\n    <tr>\n      <th>186304</th>\n      <td>319670</td>\n      <td>Bose SoundSport Headphones</td>\n      <td>1.0</td>\n      <td>99.99</td>\n      <td>12/21/19 21:45</td>\n      <td>747 Chestnut St, Los Angeles, CA 90001</td>\n      <td>12</td>\n      <td>99.99</td>\n    </tr>\n  </tbody>\n</table>\n<p>186305 rows × 8 columns</p>\n</div>"
     },
     "execution_count": 22,
     "metadata": {},
     "output_type": "execute_result"
    }
   ],
   "source": [
    "all_data['Sales'] = all_data['Quantity Ordered'] * all_data['Price Each']\n",
    "# I want to see first 100 rows\n",
    "all_data"
   ],
   "metadata": {
    "collapsed": false,
    "ExecuteTime": {
     "end_time": "2024-02-19T18:22:14.297424400Z",
     "start_time": "2024-02-19T18:22:14.267827700Z"
    }
   },
   "id": "70e5f02a66e68439",
   "execution_count": 22
  },
  {
   "cell_type": "code",
   "outputs": [
    {
     "data": {
      "text/plain": "                                                Order ID  \\\nMonth                                                      \n01     1412341412351412361412371412381412391412401412...   \n02     1452121453721464421473091476631489871505021505...   \n03     1505331505411508121517491520361532841535441538...   \n04     1623581625411650071656221662501663091665671672...   \n05     1769781775511777781777781790761790761791341800...   \n06     1957481958691960721961321966381966391976981990...   \n07     2116652117902126042136602136992140992140992149...   \n08     2237102255412256582271152275212275212277322296...   \n09     2388342392852406362410542423432428652436672449...   \n10     2486432501392501392502752506842512432521642522...   \n11     2611272617352629282631622636192644072661352680...   \n12     2790952799822802752808092826752830952836892838...   \n\n                                                 Product  Quantity Ordered  \\\nMonth                                                                        \n01     iPhoneLightning Charging CableWired Headphones...           10903.0   \n02     Lightning Charging CableAAA Batteries (4-pack)...           13449.0   \n03     AAA Batteries (4-pack)AAA Batteries (4-pack)Wi...           17005.0   \n04     Flatscreen TVAAA Batteries (4-pack)34in Ultraw...           20558.0   \n05     Apple Airpods Headphones27in FHD MonitoriPhone...           18667.0   \n06     27in FHD MonitorAAA Batteries (4-pack)Lightnin...           15253.0   \n07     27in FHD MonitorAAA Batteries (4-pack)27in FHD...           16072.0   \n08     Bose SoundSport Headphones27in 4K Gaming Monit...           13448.0   \n09     Apple Airpods Headphones34in Ultrawide Monitor...           13109.0   \n10     Lightning Charging CableGoogle PhoneUSB-C Char...           22703.0   \n11     34in Ultrawide MonitorBose SoundSport Headphon...           19798.0   \n12     AA Batteries (4-pack)Bose SoundSport Headphone...           28114.0   \n\n       Price Each                                         Order Date  \\\nMonth                                                                  \n01     1811768.38  01/22/1901/28/1901/17/1901/05/1901/25/1901/29/...   \n02     2188884.72  02/01/1902/01/1902/01/1902/01/1902/01/1902/01/...   \n03     2791207.83  03/01/19 03:0603/01/19 01:0303/01/19 02:1803/0...   \n04     3367671.02  04/01/19 01:1104/01/19 01:1504/01/19 00:1204/0...   \n05     3135125.13  05/01/19 03:2905/01/19 00:1305/01/19 00:4805/0...   \n06     2562025.61  06/01/19 03:2606/01/19 01:0606/01/19 00:1806/0...   \n07     2632539.56  07/01/19 00:5407/01/19 02:0507/01/19 00:5007/0...   \n08     2230345.42  08/01/19 01:5608/01/19 01:1508/01/19 01:1408/0...   \n09     2084992.09  09/01/19 04:1309/01/19 01:0909/01/19 02:0709/0...   \n10     3715554.83  10/01/19 01:3610/01/19 00:5310/01/19 00:5310/0...   \n11     3180600.68  11/01/19 01:4911/01/19 00:1011/01/19 02:3311/0...   \n12     4588415.41  12/01/19 01:1312/01/19 04:0712/01/19 00:3712/0...   \n\n                                        Purchase Address       Sales  \nMonth                                                                 \n01     944 Walnut St, Boston, MA 02215185 Maple St, P...  1822256.73  \n02     484 6th St, Dallas, TX 75001459 West St, Dalla...  2202022.42  \n03     270 Dogwood St, San Francisco, CA 94016683 Ada...  2807100.38  \n04     444 12th St, New York City, NY 10001672 2nd St...  3390670.24  \n05     589 Lake St, Portland, OR 97035615 Lincoln St,...  3152606.75  \n06     856 Elm St, San Francisco, CA 94016877 Center ...  2577802.26  \n07     300 9th St, San Francisco, CA 94016791 13th St...  2647775.76  \n08     882 Lake St, San Francisco, CA 94016480 Spruce...  2244467.88  \n09     761 Forest St, San Francisco, CA 94016373 1st ...  2097560.13  \n10     321 Chestnut St, Austin, TX 73301132 10th St, ...  3736726.88  \n11     917 Madison St, Seattle, WA 98101582 Spruce St...  3199603.20  \n12     134 North St, San Francisco, CA 94016174 Sunse...  4613443.34  ",
      "text/html": "<div>\n<style scoped>\n    .dataframe tbody tr th:only-of-type {\n        vertical-align: middle;\n    }\n\n    .dataframe tbody tr th {\n        vertical-align: top;\n    }\n\n    .dataframe thead th {\n        text-align: right;\n    }\n</style>\n<table border=\"1\" class=\"dataframe\">\n  <thead>\n    <tr style=\"text-align: right;\">\n      <th></th>\n      <th>Order ID</th>\n      <th>Product</th>\n      <th>Quantity Ordered</th>\n      <th>Price Each</th>\n      <th>Order Date</th>\n      <th>Purchase Address</th>\n      <th>Sales</th>\n    </tr>\n    <tr>\n      <th>Month</th>\n      <th></th>\n      <th></th>\n      <th></th>\n      <th></th>\n      <th></th>\n      <th></th>\n      <th></th>\n    </tr>\n  </thead>\n  <tbody>\n    <tr>\n      <th>01</th>\n      <td>1412341412351412361412371412381412391412401412...</td>\n      <td>iPhoneLightning Charging CableWired Headphones...</td>\n      <td>10903.0</td>\n      <td>1811768.38</td>\n      <td>01/22/1901/28/1901/17/1901/05/1901/25/1901/29/...</td>\n      <td>944 Walnut St, Boston, MA 02215185 Maple St, P...</td>\n      <td>1822256.73</td>\n    </tr>\n    <tr>\n      <th>02</th>\n      <td>1452121453721464421473091476631489871505021505...</td>\n      <td>Lightning Charging CableAAA Batteries (4-pack)...</td>\n      <td>13449.0</td>\n      <td>2188884.72</td>\n      <td>02/01/1902/01/1902/01/1902/01/1902/01/1902/01/...</td>\n      <td>484 6th St, Dallas, TX 75001459 West St, Dalla...</td>\n      <td>2202022.42</td>\n    </tr>\n    <tr>\n      <th>03</th>\n      <td>1505331505411508121517491520361532841535441538...</td>\n      <td>AAA Batteries (4-pack)AAA Batteries (4-pack)Wi...</td>\n      <td>17005.0</td>\n      <td>2791207.83</td>\n      <td>03/01/19 03:0603/01/19 01:0303/01/19 02:1803/0...</td>\n      <td>270 Dogwood St, San Francisco, CA 94016683 Ada...</td>\n      <td>2807100.38</td>\n    </tr>\n    <tr>\n      <th>04</th>\n      <td>1623581625411650071656221662501663091665671672...</td>\n      <td>Flatscreen TVAAA Batteries (4-pack)34in Ultraw...</td>\n      <td>20558.0</td>\n      <td>3367671.02</td>\n      <td>04/01/19 01:1104/01/19 01:1504/01/19 00:1204/0...</td>\n      <td>444 12th St, New York City, NY 10001672 2nd St...</td>\n      <td>3390670.24</td>\n    </tr>\n    <tr>\n      <th>05</th>\n      <td>1769781775511777781777781790761790761791341800...</td>\n      <td>Apple Airpods Headphones27in FHD MonitoriPhone...</td>\n      <td>18667.0</td>\n      <td>3135125.13</td>\n      <td>05/01/19 03:2905/01/19 00:1305/01/19 00:4805/0...</td>\n      <td>589 Lake St, Portland, OR 97035615 Lincoln St,...</td>\n      <td>3152606.75</td>\n    </tr>\n    <tr>\n      <th>06</th>\n      <td>1957481958691960721961321966381966391976981990...</td>\n      <td>27in FHD MonitorAAA Batteries (4-pack)Lightnin...</td>\n      <td>15253.0</td>\n      <td>2562025.61</td>\n      <td>06/01/19 03:2606/01/19 01:0606/01/19 00:1806/0...</td>\n      <td>856 Elm St, San Francisco, CA 94016877 Center ...</td>\n      <td>2577802.26</td>\n    </tr>\n    <tr>\n      <th>07</th>\n      <td>2116652117902126042136602136992140992140992149...</td>\n      <td>27in FHD MonitorAAA Batteries (4-pack)27in FHD...</td>\n      <td>16072.0</td>\n      <td>2632539.56</td>\n      <td>07/01/19 00:5407/01/19 02:0507/01/19 00:5007/0...</td>\n      <td>300 9th St, San Francisco, CA 94016791 13th St...</td>\n      <td>2647775.76</td>\n    </tr>\n    <tr>\n      <th>08</th>\n      <td>2237102255412256582271152275212275212277322296...</td>\n      <td>Bose SoundSport Headphones27in 4K Gaming Monit...</td>\n      <td>13448.0</td>\n      <td>2230345.42</td>\n      <td>08/01/19 01:5608/01/19 01:1508/01/19 01:1408/0...</td>\n      <td>882 Lake St, San Francisco, CA 94016480 Spruce...</td>\n      <td>2244467.88</td>\n    </tr>\n    <tr>\n      <th>09</th>\n      <td>2388342392852406362410542423432428652436672449...</td>\n      <td>Apple Airpods Headphones34in Ultrawide Monitor...</td>\n      <td>13109.0</td>\n      <td>2084992.09</td>\n      <td>09/01/19 04:1309/01/19 01:0909/01/19 02:0709/0...</td>\n      <td>761 Forest St, San Francisco, CA 94016373 1st ...</td>\n      <td>2097560.13</td>\n    </tr>\n    <tr>\n      <th>10</th>\n      <td>2486432501392501392502752506842512432521642522...</td>\n      <td>Lightning Charging CableGoogle PhoneUSB-C Char...</td>\n      <td>22703.0</td>\n      <td>3715554.83</td>\n      <td>10/01/19 01:3610/01/19 00:5310/01/19 00:5310/0...</td>\n      <td>321 Chestnut St, Austin, TX 73301132 10th St, ...</td>\n      <td>3736726.88</td>\n    </tr>\n    <tr>\n      <th>11</th>\n      <td>2611272617352629282631622636192644072661352680...</td>\n      <td>34in Ultrawide MonitorBose SoundSport Headphon...</td>\n      <td>19798.0</td>\n      <td>3180600.68</td>\n      <td>11/01/19 01:4911/01/19 00:1011/01/19 02:3311/0...</td>\n      <td>917 Madison St, Seattle, WA 98101582 Spruce St...</td>\n      <td>3199603.20</td>\n    </tr>\n    <tr>\n      <th>12</th>\n      <td>2790952799822802752808092826752830952836892838...</td>\n      <td>AA Batteries (4-pack)Bose SoundSport Headphone...</td>\n      <td>28114.0</td>\n      <td>4588415.41</td>\n      <td>12/01/19 01:1312/01/19 04:0712/01/19 00:3712/0...</td>\n      <td>134 North St, San Francisco, CA 94016174 Sunse...</td>\n      <td>4613443.34</td>\n    </tr>\n  </tbody>\n</table>\n</div>"
     },
     "execution_count": 27,
     "metadata": {},
     "output_type": "execute_result"
    }
   ],
   "source": [
    "### Best month for sales\n",
    "# if Month column contains 'Or', then drop that row\n",
    "all_data = all_data[all_data['Month'] != 'Or']\n",
    "all_data.groupby('Month').sum()"
   ],
   "metadata": {
    "collapsed": false,
    "ExecuteTime": {
     "end_time": "2024-02-19T18:24:52.356304700Z",
     "start_time": "2024-02-19T18:24:49.071648800Z"
    }
   },
   "id": "d9c439980fbd7434",
   "execution_count": 27
  },
  {
   "cell_type": "markdown",
   "source": [
    "## Question 1: What was the best month for sales? How much was earned that month?"
   ],
   "metadata": {
    "collapsed": false
   },
   "id": "79f6931e6b49410f"
  },
  {
   "cell_type": "code",
   "outputs": [
    {
     "data": {
      "text/plain": "Text(0.5, 0, 'Month number')"
     },
     "execution_count": 28,
     "metadata": {},
     "output_type": "execute_result"
    },
    {
     "data": {
      "text/plain": "<Figure size 640x480 with 1 Axes>",
      "image/png": "[encoded data removed]"
     },
     "metadata": {},
     "output_type": "display_data"
    }
   ],
   "source": [
    "import matplotlib.pyplot as plt\n",
    "\n",
    "months = range(1, 13)\n",
    "results = all_data.groupby('Month').sum()\n",
    "plt.bar(months, results['Sales'])\n",
    "plt.xticks(months)\n",
    "plt.ylabel('Sales in USD ($)')\n",
    "plt.xlabel('Month number')"
   ],
   "metadata": {
    "collapsed": false,
    "ExecuteTime": {
     "end_time": "2024-02-19T18:25:11.657305100Z",
     "start_time": "2024-02-19T18:25:08.653230Z"
    }
   },
   "id": "17061cbf9affb904",
   "execution_count": 28
  },
  {
   "cell_type": "markdown",
   "source": [
    "## Question 2: What city had the highest number of sales?"
   ],
   "metadata": {
    "collapsed": false
   },
   "id": "8074470a41ad89d1"
  },
  {
   "cell_type": "code",
   "outputs": [],
   "source": [
    "\n"
   ],
   "metadata": {
    "collapsed": false,
    "ExecuteTime": {
     "start_time": "2024-02-19T18:22:20.161848100Z"
    }
   },
   "id": "19734db0ebd08a55",
   "execution_count": null
  }
 ],
 "metadata": {
  "kernelspec": {
   "display_name": "Python 3",
   "language": "python",
   "name": "python3"
  },
  "language_info": {
   "codemirror_mode": {
    "name": "ipython",
    "version": 2
   },
   "file_extension": ".py",
   "mimetype": "text/x-python",
   "name": "python",
   "nbconvert_exporter": "python",
   "pygments_lexer": "ipython2",
   "version": "2.7.6"
  }
 },
 "nbformat": 4,
 "nbformat_minor": 5
}
