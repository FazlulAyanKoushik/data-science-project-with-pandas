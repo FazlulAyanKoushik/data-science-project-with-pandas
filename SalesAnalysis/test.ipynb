{
 "cells": [
  {
   "cell_type": "code",
   "execution_count": 4,
   "id": "initial_id",
   "metadata": {
    "collapsed": true,
    "ExecuteTime": {
     "end_time": "2024-02-12T18:09:13.967281500Z",
     "start_time": "2024-02-12T18:09:13.957319900Z"
    }
   },
   "outputs": [
    {
     "data": {
      "text/plain": "         Order Date\n0   1/22/2019 21:25\n1   1/28/2019 14:15\n2  02/17/2019 13:33\n3   03/5/2019 20:33\n4   1/25/2019 11:59\n5  12/29/2019 20:22",
      "text/html": "<div>\n<style scoped>\n    .dataframe tbody tr th:only-of-type {\n        vertical-align: middle;\n    }\n\n    .dataframe tbody tr th {\n        vertical-align: top;\n    }\n\n    .dataframe thead th {\n        text-align: right;\n    }\n</style>\n<table border=\"1\" class=\"dataframe\">\n  <thead>\n    <tr style=\"text-align: right;\">\n      <th></th>\n      <th>Order Date</th>\n    </tr>\n  </thead>\n  <tbody>\n    <tr>\n      <th>0</th>\n      <td>1/22/2019 21:25</td>\n    </tr>\n    <tr>\n      <th>1</th>\n      <td>1/28/2019 14:15</td>\n    </tr>\n    <tr>\n      <th>2</th>\n      <td>02/17/2019 13:33</td>\n    </tr>\n    <tr>\n      <th>3</th>\n      <td>03/5/2019 20:33</td>\n    </tr>\n    <tr>\n      <th>4</th>\n      <td>1/25/2019 11:59</td>\n    </tr>\n    <tr>\n      <th>5</th>\n      <td>12/29/2019 20:22</td>\n    </tr>\n  </tbody>\n</table>\n</div>"
     },
     "execution_count": 4,
     "metadata": {},
     "output_type": "execute_result"
    }
   ],
   "source": [
    "import pandas as pd\n",
    "\n",
    "# Your data\n",
    "data = {'Order Date': ['1/22/2019 21:25', '1/28/2019 14:15', '02/17/2019 13:33',\n",
    "                        '03/5/2019 20:33', '1/25/2019 11:59', '12/29/2019 20:22']}\n",
    "\n",
    "# Create a DataFrame\n",
    "df = pd.DataFrame(data)\n",
    "\n",
    "df\n"
   ]
  },
  {
   "cell_type": "code",
   "outputs": [
    {
     "data": {
      "text/plain": "           Order Date\n0 2019-01-22 21:25:00\n1 2019-01-28 14:15:00\n2 2019-02-17 13:33:00\n3 2019-03-05 20:33:00\n4 2019-01-25 11:59:00\n5 2019-12-29 20:22:00",
      "text/html": "<div>\n<style scoped>\n    .dataframe tbody tr th:only-of-type {\n        vertical-align: middle;\n    }\n\n    .dataframe tbody tr th {\n        vertical-align: top;\n    }\n\n    .dataframe thead th {\n        text-align: right;\n    }\n</style>\n<table border=\"1\" class=\"dataframe\">\n  <thead>\n    <tr style=\"text-align: right;\">\n      <th></th>\n      <th>Order Date</th>\n    </tr>\n  </thead>\n  <tbody>\n    <tr>\n      <th>0</th>\n      <td>2019-01-22 21:25:00</td>\n    </tr>\n    <tr>\n      <th>1</th>\n      <td>2019-01-28 14:15:00</td>\n    </tr>\n    <tr>\n      <th>2</th>\n      <td>2019-02-17 13:33:00</td>\n    </tr>\n    <tr>\n      <th>3</th>\n      <td>2019-03-05 20:33:00</td>\n    </tr>\n    <tr>\n      <th>4</th>\n      <td>2019-01-25 11:59:00</td>\n    </tr>\n    <tr>\n      <th>5</th>\n      <td>2019-12-29 20:22:00</td>\n    </tr>\n  </tbody>\n</table>\n</div>"
     },
     "execution_count": 5,
     "metadata": {},
     "output_type": "execute_result"
    }
   ],
   "source": [
    "# Convert 'Order Date' to datetime format\n",
    "df['Order Date'] = pd.to_datetime(df['Order Date'], format='%m/%d/%Y %H:%M')\n",
    "\n",
    "df"
   ],
   "metadata": {
    "collapsed": false,
    "ExecuteTime": {
     "end_time": "2024-02-12T18:10:34.708074Z",
     "start_time": "2024-02-12T18:10:34.701919400Z"
    }
   },
   "id": "6796c7ed08cdc312",
   "execution_count": 5
  },
  {
   "cell_type": "code",
   "outputs": [
    {
     "data": {
      "text/plain": "           Order Date  Month\n0 2019-01-22 21:25:00      1\n1 2019-01-28 14:15:00      1\n2 2019-02-17 13:33:00      2\n3 2019-03-05 20:33:00      3\n4 2019-01-25 11:59:00      1\n5 2019-12-29 20:22:00     12",
      "text/html": "<div>\n<style scoped>\n    .dataframe tbody tr th:only-of-type {\n        vertical-align: middle;\n    }\n\n    .dataframe tbody tr th {\n        vertical-align: top;\n    }\n\n    .dataframe thead th {\n        text-align: right;\n    }\n</style>\n<table border=\"1\" class=\"dataframe\">\n  <thead>\n    <tr style=\"text-align: right;\">\n      <th></th>\n      <th>Order Date</th>\n      <th>Month</th>\n    </tr>\n  </thead>\n  <tbody>\n    <tr>\n      <th>0</th>\n      <td>2019-01-22 21:25:00</td>\n      <td>1</td>\n    </tr>\n    <tr>\n      <th>1</th>\n      <td>2019-01-28 14:15:00</td>\n      <td>1</td>\n    </tr>\n    <tr>\n      <th>2</th>\n      <td>2019-02-17 13:33:00</td>\n      <td>2</td>\n    </tr>\n    <tr>\n      <th>3</th>\n      <td>2019-03-05 20:33:00</td>\n      <td>3</td>\n    </tr>\n    <tr>\n      <th>4</th>\n      <td>2019-01-25 11:59:00</td>\n      <td>1</td>\n    </tr>\n    <tr>\n      <th>5</th>\n      <td>2019-12-29 20:22:00</td>\n      <td>12</td>\n    </tr>\n  </tbody>\n</table>\n</div>"
     },
     "execution_count": 6,
     "metadata": {},
     "output_type": "execute_result"
    }
   ],
   "source": [
    "# Extract month and store in 'Month' column\n",
    "df['Month'] = df['Order Date'].dt.month\n",
    "df\n",
    "\n"
   ],
   "metadata": {
    "collapsed": false,
    "ExecuteTime": {
     "end_time": "2024-02-12T18:10:58.002268900Z",
     "start_time": "2024-02-12T18:10:57.992820500Z"
    }
   },
   "id": "f24c84ed168a599f",
   "execution_count": 6
  },
  {
   "cell_type": "code",
   "outputs": [],
   "source": [
    "# Reformat to have leading zeros if needed\n",
    "df['Month'] = df['Month'].apply(lambda x: f'{x:02d}')\n",
    "\n",
    "# Display the resulting DataFrame\n",
    "print(df)"
   ],
   "metadata": {
    "collapsed": false
   },
   "id": "ec8743bbb193a445"
  }
 ],
 "metadata": {
  "kernelspec": {
   "display_name": "Python 3",
   "language": "python",
   "name": "python3"
  },
  "language_info": {
   "codemirror_mode": {
    "name": "ipython",
    "version": 2
   },
   "file_extension": ".py",
   "mimetype": "text/x-python",
   "name": "python",
   "nbconvert_exporter": "python",
   "pygments_lexer": "ipython2",
   "version": "2.7.6"
  }
 },
 "nbformat": 4,
 "nbformat_minor": 5
}
